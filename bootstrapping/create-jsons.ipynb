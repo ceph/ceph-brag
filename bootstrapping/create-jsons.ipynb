{
 "cells": [
  {
   "cell_type": "markdown",
   "metadata": {
    "focus": false,
    "id": "52b6c727-6a50-4d49-ad10-3f2a8bc9dfd9"
   },
   "source": [
    "# Create JSON files from Ceph tests data in CSV format\n",
    "\n",
    "This notebook reads a CSV file with one Ceph test per row, and produces one JSON file for each test, using the proposed JSON format. This notebook is intended only for having some JSON files to test the production of the Ceph-brag dashboard. Please, note that the CSV file may include incorrect data. In particular, date and cluster_uuid are fake."
   ]
  },
  {
   "cell_type": "markdown",
   "metadata": {
    "focus": false,
    "id": "8a67e23f-8d82-47a6-a63f-dfc408a0a3ef"
   },
   "source": [
    "First of all, read the csv file into a Pandas dataframe (just because it is convenient to later produce the JSON files)."
   ]
  },
  {
   "cell_type": "code",
   "execution_count": 6,
   "metadata": {
    "collapsed": false,
    "focus": true,
    "id": "7ed4234a-dcb2-40e2-b2ed-5fca9145aa4b"
   },
   "outputs": [],
   "source": [
    "import pandas as pd\n",
    "\n",
    "tests_df = pd.read_csv(\"ceph-tests-data.csv\")"
   ]
  },
  {
   "cell_type": "markdown",
   "metadata": {
    "focus": false,
    "id": "d90e1058-eff4-49e3-9d51-1667fcc8dc51"
   },
   "source": [
    "The function create_description produces a dictionary ready to be exported as a JSON file. It takes as arguments the data for one test (which correspons to one row in the CSV file), and an integer (which corresponds to the position of the row in the CSV file, starting with 0). The integer is used only for helping in producing the date (we don't have real dates in the CSV file)."
   ]
  },
  {
   "cell_type": "code",
   "execution_count": 3,
   "metadata": {
    "collapsed": false,
    "focus": false,
    "id": "7723abf0-f0af-4370-8370-2ddcd97bb1a4"
   },
   "outputs": [],
   "source": [
    "from collections import OrderedDict\n",
    "def create_description (test, order):\n",
    "    \"\"\"Fill a description dictionary from information in a dataframe row.\"\"\"\n",
    "    \n",
    "    description = OrderedDict()\n",
    "    description[\"information\"] = {\n",
    "        \"cluster_uuid\": \"5e4eeae5-edf4-4d53-8ed5-5675207f9a35\",\n",
    "        \"date\": \"2014-05-\" + \"{0:0=2d}\".format(order+1) + \"T20:00:34\",\n",
    "        \"submitter\": {\n",
    "            \"person\": test[\"person\"],\n",
    "            \"company\": test[\"company\"]\n",
    "        }\n",
    "    }\n",
    "    description[\"platform\"] = {\n",
    "        \"osds\": test[\"osd_test\"],\n",
    "        \"osd_servers\": test[\"osd_servers_test\"],\n",
    "        \"osd_devices\": test[\"osd_devices_test\"],\n",
    "        \"osd_media\": test[\"osd_media\"],\n",
    "        \"cost_raw_tb\": test[\"cost_raw_tb\"],\n",
    "        \"ceph_data_protection\": test[\"ceph_data_protection\"],\n",
    "        \"cost_usable_tb\": test[\"cost_usable_tb\"],\n",
    "        \"v_fio\": \"2.2.13\",\n",
    "        \"v_sysbench\": \"0.5\",\n",
    "        \"v_radosbench\": \"9.2.0\",\n",
    "        \"v_collectl\": \"4.0.2\",\n",
    "    }\n",
    "    description[\"osd_servers\"] = {\n",
    "        \"server_vendor\": test[\"vendor\"],\n",
    "        \"server_model\": test[\"model\"],\n",
    "        \"3_5_hdds_for_osds\": test[\"3_5_hdds\"],\n",
    "        \"2_5_hdds_for_osds\": test[\"2_5_hdds\"],\n",
    "        \"2_5_ssds_for_osds\": test[\"2_5_ssds\"],\n",
    "        \"nvme_for_osds\": test[\"pcie_nvm\"],\n",
    "        \"journal_model\": test[\"journal_model\"],\n",
    "        \"CPU\": test[\"cpu\"],\n",
    "        \"CPU_sockets\": test[\"cpu_sockets\"],\n",
    "        \"RAM_GB\": test[\"ram_ddr\"],\n",
    "        \"HBA/RAID\": test[\"controller\"],\n",
    "        \"HBA/RAID_model\": test[\"hba_raid_model\"],\n",
    "        \"Network_Interface\": test[\"network_interface\"],\n",
    "        \"v_OS\": test[\"os_version\"],\n",
    "        \"v_kernel\": test[\"kernel\"]\n",
    "    }\n",
    "    description[\"pools\"] = [\n",
    "        {\n",
    "            \"pool_id\": 0,\n",
    "            \"pool_name\": \"data\",\n",
    "            \"pool_pgpnum\": 512,\n",
    "            \"pool_size\": 2\n",
    "        },\n",
    "        {\n",
    "            \"pool_id\": 32,\n",
    "            \"pool_name\": \"ssd\",\n",
    "            \"pool_pgpnum\": 512,\n",
    "            \"pool_size\": 1\n",
    "        }\n",
    "    ]\n",
    "    description[\"ceph\"] = {\n",
    "        \"v_ceph\": test[\"ceph_version\"],\n",
    "        \"pg_count\": test[\"ceph_groups\"],\n",
    "    }\n",
    "    description[\"network\"] = {\n",
    "        \"pub_network\": test[\"net_public\"],\n",
    "        \"cluster_network\": test[\"net_cluster\"]\n",
    "    }\n",
    "    description[\"clients\"] = {\n",
    "        \"client_node_count\": test[\"client_nodes\"],\n",
    "        \"Client_OS\": test[\"client_os\"],\n",
    "        \"client_vm_count\": test[\"client_vms\"],\n",
    "        \"ceph_client\": test[\"ceph_client\"]\n",
    "    }\n",
    "    description[\"load\"] = {\n",
    "        \"load_test_util\": test[\"load_utility\"],\n",
    "        \"IO_queue_depth\": test[\"load_io_queue\"]\n",
    "    }\n",
    "    if test[\"load_cbt\"] == \"Y\":\n",
    "        description[\"load\"][\"CBT\"] = 1\n",
    "    else:\n",
    "        description[\"load\"][\"CBT\"] = 0\n",
    "    description[\"publication\"] = {\n",
    "        \"publication_url\": test[\"link\"]\n",
    "    }\n",
    "    if test[\"published\"] == \"Y\":\n",
    "        description[\"load\"][\"published\"] = 1\n",
    "    else:\n",
    "        description[\"load\"][\"published\"] = 0\n",
    "    description[\"notes\"] = {\n",
    "        \"observations\": test[\"observations\"]\n",
    "    }\n",
    "    description[\"benchmarks\"] = [\n",
    "        {\n",
    "            \"suite\": \"CBT_Throughput-optimized\",\n",
    "            \"kind\": \"4M Sequential Read\",\n",
    "            \"mbsec_osd_device\": test[\"4MSR_mbsec_osd_device\"],\n",
    "            \"cost_usable_tb_mbsec\": test[\"4MSR_cost_usable_tb_mbsec\"],\n",
    "            \"mbsec_cluster\": test[\"4MSR_mbsec_cluster\"],\n",
    "            \"avg_latency\": test[\"4MSR_latency_avg\"],\n",
    "            \"95th_latency\": test[\"4MSR_latency_95\"]\n",
    "        },\n",
    "        {\n",
    "            \"suite\": \"CBT_Throughput-optimized\",\n",
    "            \"kind\": \"4M Sequential Write\",\n",
    "            \"mbsec_osd_device\": test[\"4MSW_mbsec_osd_device\"],\n",
    "            \"cost_usable_tb_mbsec\": test[\"4MSW_cost_usable_tb_mbsec\"],\n",
    "            \"mbsec_cluster\": test[\"4MSW_mbsec_cluster\"],\n",
    "            \"avg_latency\": test[\"4MSW_latency_avg\"],\n",
    "            \"95th_latency\": test[\"4MSW_latency_95\"]\n",
    "        }\n",
    "    ]\n",
    "    return description\n"
   ]
  },
  {
   "cell_type": "markdown",
   "metadata": {
    "focus": false,
    "id": "d81c921f-17d2-45c9-8ee4-358778c27950"
   },
   "source": [
    "Function file_name produces a file name from the date and cluster_uuid in the description of a test."
   ]
  },
  {
   "cell_type": "code",
   "execution_count": 4,
   "metadata": {
    "collapsed": false,
    "focus": false,
    "id": "e9adf45c-059a-4b37-8ef4-bf0c2ec726f3"
   },
   "outputs": [],
   "source": [
    "def file_name (description):\n",
    "    \"\"\"Produce the file name for a test description\"\"\"\n",
    "\n",
    "    name = description[\"information\"][\"date\"]\n",
    "    name = name.replace(\"T\", \"_\")\n",
    "    name = name + \"_\" + description[\"information\"][\"cluster_uuid\"]\n",
    "    return name"
   ]
  },
  {
   "cell_type": "markdown",
   "metadata": {
    "focus": false,
    "id": "081debd2-e99b-4054-80fe-287e8a8a3dd2"
   },
   "source": [
    "Now, the rest is simple. Just loop through all rows in the dataframe, produce a description (dictionary ready to be exported as JSON) for each of them, produce a file name for each of them, and then write the dictionary to the file."
   ]
  },
  {
   "cell_type": "code",
   "execution_count": 5,
   "metadata": {
    "collapsed": false,
    "focus": false,
    "id": "37d8ee6f-0dd3-4b98-8248-a8222e26a615"
   },
   "outputs": [],
   "source": [
    "import json\n",
    "for index, row in tests_df.iterrows(): \n",
    "    description = create_description(row, index)\n",
    "    name = file_name(description)\n",
    "    with open(name + \".json\", 'w') as f:\n",
    "        json.dump(dict(description), f, ensure_ascii=False, indent=2)"
   ]
  },
  {
   "cell_type": "code",
   "execution_count": null,
   "metadata": {
    "collapsed": true,
    "focus": false,
    "id": "a864e167-071d-4856-954a-6ed8ee95c56d"
   },
   "outputs": [],
   "source": []
  }
 ],
 "metadata": {
  "kernelspec": {
   "display_name": "Python 3",
   "language": "python",
   "name": "python3"
  },
  "language_info": {
   "codemirror_mode": {
    "name": "ipython",
    "version": 3
   },
   "file_extension": ".py",
   "mimetype": "text/x-python",
   "name": "python",
   "nbconvert_exporter": "python",
   "pygments_lexer": "ipython3",
   "version": "3.4.4rc1"
  }
 },
 "nbformat": 4,
 "nbformat_minor": 0
}
